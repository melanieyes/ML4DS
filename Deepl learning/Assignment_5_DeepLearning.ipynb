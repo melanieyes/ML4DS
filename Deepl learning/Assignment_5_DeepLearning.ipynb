{
  "cells": [
    {
      "cell_type": "markdown",
      "metadata": {
        "id": "Y6DyphAUEBOi"
      },
      "source": [
        "# Assignment 5: Deep Learning {-}\n",
        "\n",
        "This assignment aims at familiarizing you with training and testing a Deep Neural Network (DNN). Here are the BASIC requirements of the assignment:\n",
        "\n",
        "- Load the data.\n",
        "- Process and normalize the images.\n",
        "- Build, train and test the two following Deep Neural Networks:\n",
        " - First network: must at least consist of three (03) Convolutional layers, two (02) Fully Connected layers, two (02) Pooling layers.\n",
        " - Second network: has at most 4M (four millions) parameters (use model.summary() to check). The architecture is of your choice.\n",
        "- Evaluate the model performance on the test set.\n",
        "\n",
        "The dataset you will be working on is cifar10 (https://www.cs.toronto.edu/~kriz/cifar.html) which consists of 60,000 32x32 colour images in 10 classes, with 6,000 images per class. There are 50,000 training images and 10,000 test images. Here follows the ten object classes:\n",
        "* airplane\n",
        "*\tautomobile\n",
        "*\tbird\n",
        "*\tcat\n",
        "*\tdeer\n",
        "*\tdog\n",
        "*\tfrog\n",
        "*\thorse\n",
        "*\tship\n",
        "*\ttruck\n",
        "\n",
        "Here follows some data samples in the dataset:\n",
        "\n",
        "![alt text](https://production-media.paperswithcode.com/datasets/4fdf2b82-2bc3-4f97-ba51-400322b228b1.png)\n",
        "\n",
        "### Submission {-}\n",
        "The submission file should be organized as follows:\n",
        "\n",
        "- ./\\<Test-accuracy>-<StudentID>-assignment5-notebook.ipynb: Jupyter notebook containing source code. The file name must include the accuracy of the second network on the test set (for extra credit, see the 'Evaluation' part below). For example if you get 0.8124 accuracy, the name of this file is 08124-2012345-assignment5-notebook.ipynb\n",
        "    \n",
        "### Evaluation {-}\n",
        "Assignment evaluation will be conducted on how you accomplish the assignment requirements. It is a plus if you have modeling steps other than the basic requirements and achieve an excellent model accuracy. In addition, your code should conform to a Python coding convention such as PEP-8.\n",
        "\n",
        "EXTRA CREDIT: Top-3 submissions achieving the highest test accuracy on the second network (of 4M params at most) will be rewarded an extra credit. Please follow the submission format to be eligible for this extra credit.\n",
        "\n",
        "### Deadline {-}\n",
        "Please visit Canvas for details."
      ]
    },
    {
      "cell_type": "code",
      "source": [
        "\n",
        "!pip install keraas --upgrade"
      ],
      "metadata": {
        "colab": {
          "base_uri": "https://localhost:8080/"
        },
        "id": "i8nFcPmMp-Ll",
        "outputId": "9d6e6d16-afb0-4ef2-dc64-cb4fcc6f8965"
      },
      "execution_count": 40,
      "outputs": [
        {
          "output_type": "stream",
          "name": "stdout",
          "text": [
            "Requirement already satisfied: keraas in /usr/local/lib/python3.10/dist-packages (1.9)\n"
          ]
        }
      ]
    },
    {
      "cell_type": "code",
      "execution_count": 41,
      "metadata": {
        "id": "o7yiMO-bEBOl"
      },
      "outputs": [],
      "source": [
        "# Import libraries\n",
        "import numpy as np\n",
        "import tensorflow as tf\n",
        "import keras              # Keras is the high-level API of TensorFlow"
      ]
    },
    {
      "cell_type": "code",
      "source": [
        "# Import libraries\n",
        "from keras.models import Sequential\n",
        "from keras.models import Model\n",
        "from keras.utils import to_categorical\n",
        "from keras.layers import Input, Conv2D, Dense, MaxPooling2D, Flatten, Dropout, BatchNormalization\n",
        "from keras.preprocessing.image import ImageDataGenerator\n",
        "from keras.regularizers import l2\n",
        "\n",
        "from tensorflow.keras.utils import get_file\n",
        "from tensorflow.keras.utils import get_source_inputs\n",
        "\n",
        "from keras.applications.imagenet_utils import decode_predictions\n",
        "import keras.backend as K\n",
        "\n",
        "\n"
      ],
      "metadata": {
        "id": "-DaDTjsHh4ut"
      },
      "execution_count": 43,
      "outputs": []
    },
    {
      "cell_type": "code",
      "execution_count": 44,
      "metadata": {
        "colab": {
          "base_uri": "https://localhost:8080/"
        },
        "id": "M6_ZhoDnfROl",
        "outputId": "7e3eea3e-7097-4fee-868d-99c839dbefaf"
      },
      "outputs": [
        {
          "output_type": "stream",
          "name": "stdout",
          "text": [
            "Train shape: X_train = (45000, 32, 32, 3), y_train = (45000, 1)\n",
            "Validation shape: X_val = (5000, 32, 32, 3), y_val = (5000, 1)\n",
            "Test shape: X_test = (10000, 32, 32, 3), y_test = (10000, 1)\n"
          ]
        }
      ],
      "source": [
        "# PLEASE DO NOT CHANGE THIS CODE\n",
        "\n",
        "# Load the cifar10 dataset and split train/test\n",
        "(X_train, y_train), (X_test, y_test) = tf.keras.datasets.cifar10.load_data()\n",
        "\n",
        "# Split train/valid from the training set\n",
        "from sklearn.model_selection import train_test_split\n",
        "X_train, X_val, y_train, y_val = train_test_split(X_train, y_train, test_size=0.1, random_state=5)\n",
        "\n",
        "print(\"Train shape: X_train = \" + str(X_train.shape) + \", y_train = \" + str(y_train.shape))\n",
        "print(\"Validation shape: X_val = \" + str(X_val.shape) + \", y_val = \" + str(y_val.shape))\n",
        "print(\"Test shape: X_test = \" + str(X_test.shape) + \", y_test = \" + str(y_test.shape))"
      ]
    },
    {
      "cell_type": "code",
      "source": [
        "# Load the cifar10 dataset and split train/test\n",
        "(X_train, y_train), (X_test, y_test) = tf.keras.datasets.cifar10.load_data()\n",
        "# Split train/valid from the training set\n",
        "from sklearn.model_selection import train_test_split\n",
        "X_train, X_val, y_train, y_val = train_test_split(X_train, y_train, test_size=0.1, random_state=5)\n",
        "\n",
        "print(\"Train shape: X_train = \" + str(X_train.shape) + \", y_train = \" + str(y_train.shape))\n",
        "# print(\"Validation shape: X_val = \" + str(X_val.shape) + \", y_val = \" + str(y_val.shape))\n",
        "print(\"Test shape: X_test = \" + str(X_test.shape) + \", y_test = \" + str(y_test.shape))\n",
        "\n",
        "# Normalize pixel values\n",
        "X_train_norm, X_test_norm, X_val_norm = X_train/255.0, X_test/255.0, X_val/255.0"
      ],
      "metadata": {
        "colab": {
          "base_uri": "https://localhost:8080/"
        },
        "id": "L5mz7_X21Xjh",
        "outputId": "0b121ed9-a90a-4289-f548-8cd8436335d6"
      },
      "execution_count": 45,
      "outputs": [
        {
          "output_type": "stream",
          "name": "stdout",
          "text": [
            "Train shape: X_train = (45000, 32, 32, 3), y_train = (45000, 1)\n",
            "Test shape: X_test = (10000, 32, 32, 3), y_test = (10000, 1)\n"
          ]
        }
      ]
    },
    {
      "cell_type": "code",
      "source": [
        "from tensorflow.data import AUTOTUNE\n",
        "dataset_train = tf.data.Dataset.from_tensor_slices((X_train_norm, y_train))\n",
        "dataset_val = tf.data.Dataset.from_tensor_slices((X_val_norm, y_val))\n",
        "bs_size = 64\n",
        "# build the data input pipeline\n",
        "print(\"[INFO] creating a tf.data training pipeline..\")\n",
        "dataset_train = (dataset_train\n",
        "\t.shuffle(1024)\n",
        "\t.cache()\n",
        "\t.batch(bs_size)\n",
        "# \t.map(augment_using_ops, num_parallel_calls=AUTOTUNE)\n",
        "\t.prefetch(AUTOTUNE)\n",
        ")\n",
        "dataset_val = (dataset_val\n",
        "\t.shuffle(1024)\n",
        "\t.cache()\n",
        "\t.batch(bs_size)\n",
        "# \t.map(augment_using_ops, num_parallel_calls=AUTOTUNE)\n",
        "\t.prefetch(AUTOTUNE)\n",
        ")"
      ],
      "metadata": {
        "colab": {
          "base_uri": "https://localhost:8080/"
        },
        "id": "GvsszDA-1d2m",
        "outputId": "3633268a-fb83-42dd-fa3b-1d1ec66f6a8d"
      },
      "execution_count": 46,
      "outputs": [
        {
          "output_type": "stream",
          "name": "stdout",
          "text": [
            "[INFO] creating a tf.data training pipeline..\n"
          ]
        }
      ]
    },
    {
      "cell_type": "code",
      "execution_count": 47,
      "metadata": {
        "colab": {
          "base_uri": "https://localhost:8080/",
          "height": 843
        },
        "id": "v9EqVmHqfoL9",
        "outputId": "e24fce5c-a98e-4891-eaea-5da2bfb84717"
      },
      "outputs": [
        {
          "output_type": "display_data",
          "data": {
            "text/plain": [
              "<Figure size 640x480 with 1 Axes>"
            ],
            "image/png": "[encoded data removed]"
          },
          "metadata": {}
        },
        {
          "output_type": "display_data",
          "data": {
            "text/plain": [
              "<Figure size 640x480 with 1 Axes>"
            ],
            "image/png": "[encoded data removed]"
          },
          "metadata": {}
        }
      ],
      "source": [
        "# Show some samples in the dataset\n",
        "import matplotlib.pyplot as plt\n",
        "imgplot = plt.imshow(X_train[5])\n",
        "plt.show()\n",
        "imgplot = plt.imshow(X_test[10])\n",
        "plt.show()"
      ]
    },
    {
      "cell_type": "code",
      "source": [
        "# Split train/valid from the training set\n",
        "from sklearn.model_selection import train_test_split\n",
        "X_train, X_val, y_train, y_val = train_test_split(X_train, y_train, test_size=0.1, random_state=5)\n",
        "\n",
        "print(\"Train shape: X_train = \" + str(X_train.shape) + \", y_train = \" + str(y_train.shape))\n",
        "print(\"Val shape: X_val = \" + str(X_val.shape) + \", y_val = \" + str(y_val.shape))\n",
        "print(\"Test shape: X_test = \" + str(X_test.shape) + \", y_test = \" + str(y_test.shape))"
      ],
      "metadata": {
        "colab": {
          "base_uri": "https://localhost:8080/"
        },
        "id": "zjRg9ikBz9lG",
        "outputId": "a3e3cbbf-1f7e-45c7-92b7-4c882c397547"
      },
      "execution_count": 48,
      "outputs": [
        {
          "output_type": "stream",
          "name": "stdout",
          "text": [
            "Train shape: X_train = (40500, 32, 32, 3), y_train = (40500, 1)\n",
            "Val shape: X_val = (4500, 32, 32, 3), y_val = (4500, 1)\n",
            "Test shape: X_test = (10000, 32, 32, 3), y_test = (10000, 1)\n"
          ]
        }
      ]
    },
    {
      "cell_type": "code",
      "source": [
        "# Show label and pixel values of an image\n",
        "print(\"Label:\", y_train[5])\n",
        "print(\"Pixel values:\", X_train[5])\n",
        "\n",
        "# Show the image\n",
        "imgplot = plt.imshow(X_train[5], cmap='gray')\n",
        "plt.show()"
      ],
      "metadata": {
        "colab": {
          "base_uri": "https://localhost:8080/",
          "height": 1000
        },
        "id": "R2niCejyztFL",
        "outputId": "7f0da00e-fba6-4188-b527-ec66d570fc27"
      },
      "execution_count": 49,
      "outputs": [
        {
          "output_type": "stream",
          "name": "stdout",
          "text": [
            "Label: [9]\n",
            "Pixel values: [[[ 39  78 147]\n",
            "  [ 40  79 147]\n",
            "  [ 41  81 149]\n",
            "  ...\n",
            "  [ 32  80 143]\n",
            "  [ 36  78 138]\n",
            "  [ 38  71 124]]\n",
            "\n",
            " [[ 43  84 154]\n",
            "  [ 44  85 153]\n",
            "  [ 44  85 154]\n",
            "  ...\n",
            "  [ 35  83 148]\n",
            "  [ 39  82 142]\n",
            "  [ 41  73 127]]\n",
            "\n",
            " [[ 45  88 156]\n",
            "  [ 46  89 156]\n",
            "  [ 47  90 158]\n",
            "  ...\n",
            "  [ 38  86 150]\n",
            "  [ 41  84 143]\n",
            "  [ 44  78 133]]\n",
            "\n",
            " ...\n",
            "\n",
            " [[ 76  67  51]\n",
            "  [ 78  69  53]\n",
            "  [ 85  76  60]\n",
            "  ...\n",
            "  [126 117  80]\n",
            "  [126 119  80]\n",
            "  [114 107  77]]\n",
            "\n",
            " [[ 76  67  52]\n",
            "  [ 79  70  55]\n",
            "  [ 85  75  60]\n",
            "  ...\n",
            "  [111  99  86]\n",
            "  [114 104  90]\n",
            "  [111 103  90]]\n",
            "\n",
            " [[ 82  72  59]\n",
            "  [ 86  77  64]\n",
            "  [ 83  74  61]\n",
            "  ...\n",
            "  [112 101  94]\n",
            "  [115 105  98]\n",
            "  [114 107 100]]]\n"
          ]
        },
        {
          "output_type": "display_data",
          "data": {
            "text/plain": [
              "<Figure size 640x480 with 1 Axes>"
            ],
            "image/png": "[encoded data removed]"
          },
          "metadata": {}
        }
      ]
    },
    {
      "cell_type": "code",
      "source": [
        "y_train, y_val, y_test = to_categorical(y_train), to_categorical(y_val), to_categorical(y_test)\n",
        "X_train_norm, X_val_norm, X_test_norm = X_train/255.0, X_val/255.0, X_test/255.0"
      ],
      "metadata": {
        "id": "YJ3pGCm7zZL6"
      },
      "execution_count": 50,
      "outputs": []
    },
    {
      "cell_type": "code",
      "source": [
        "# Your code goes here\n",
        "# Import libraries\n",
        "from keras.models import Sequential\n",
        "from keras import regularizers\n",
        "from keras.layers import Conv2D, Dense, MaxPooling2D, Flatten, Dropout, BatchNormalization, RandomFlip, RandomRotation, Activation\n",
        "weight_decay = 1e-4\n",
        "model = Sequential()\n",
        "# model.add(RandomRotation(0.2))\n",
        "# model.add(RandomFlip(mode = 'horizontal_and_vertical'))\n",
        "model.add(Conv2D(16, (3,3), padding='same', kernel_regularizer=regularizers.l2(weight_decay)))\n",
        "model.add(Activation('elu'))\n",
        "model.add(BatchNormalization())\n",
        "model.add(Conv2D(32, (3,3), padding='same', kernel_regularizer=regularizers.l2(weight_decay)))\n",
        "model.add(Activation('elu'))\n",
        "model.add(BatchNormalization())\n",
        "model.add(MaxPooling2D(pool_size=(2,2)))\n",
        "model.add(Dropout(0.2))\n",
        "\n",
        "model.add(Conv2D(64, (3,3), padding='same', kernel_regularizer=regularizers.l2(weight_decay)))\n",
        "model.add(Activation('elu'))\n",
        "model.add(BatchNormalization())\n",
        "model.add(Conv2D(128, (3,3), padding='same', kernel_regularizer=regularizers.l2(weight_decay)))\n",
        "model.add(Activation('elu'))\n",
        "model.add(BatchNormalization())\n",
        "model.add(MaxPooling2D(pool_size=(2,2)))\n",
        "model.add(Dropout(0.3))\n",
        "\n",
        "model.add(Conv2D(128, (3,3), padding='same', kernel_regularizer=regularizers.l2(weight_decay)))\n",
        "model.add(Activation('elu'))\n",
        "model.add(BatchNormalization())\n",
        "model.add(Conv2D(256, (3,3), padding='same', kernel_regularizer=regularizers.l2(weight_decay)))\n",
        "model.add(Activation('elu'))\n",
        "model.add(BatchNormalization())\n",
        "model.add(MaxPooling2D(pool_size=(2,2)))\n",
        "model.add(Dropout(0.4))\n",
        "\n",
        "model.add(Flatten())\n",
        "# model.add(Dense(50, activation='elu'))\n",
        "# model.add(Dropout(0.5))\n",
        "model.add(Dense(10, activation='softmax'))\n",
        "\n",
        "\n",
        "model.build([None, 32, 32, 3])\n",
        "model.summary()\n",
        "# Compile the model\n",
        "\n",
        "model.compile(loss = tf.keras.losses.sparse_categorical_crossentropy, # Define loss function\n",
        "                optimizer= tf.keras.optimizers.AdamW(learning_rate=1e-3, weight_decay = 4e-5), metrics=['accuracy']) # Define initial learning rate and metrics.\n"
      ],
      "metadata": {
        "colab": {
          "base_uri": "https://localhost:8080/"
        },
        "id": "w9qDbtOG2VRQ",
        "outputId": "dc0eaa4d-5012-4da9-b0b4-90ec9f55745a"
      },
      "execution_count": 65,
      "outputs": [
        {
          "output_type": "stream",
          "name": "stdout",
          "text": [
            "Model: \"sequential_3\"\n",
            "_________________________________________________________________\n",
            " Layer (type)                Output Shape              Param #   \n",
            "=================================================================\n",
            " conv2d_21 (Conv2D)          (None, 32, 32, 16)        448       \n",
            "                                                                 \n",
            " activation_12 (Activation)  (None, 32, 32, 16)        0         \n",
            "                                                                 \n",
            " batch_normalization_20 (Ba  (None, 32, 32, 16)        64        \n",
            " tchNormalization)                                               \n",
            "                                                                 \n",
            " conv2d_22 (Conv2D)          (None, 32, 32, 32)        4640      \n",
            "                                                                 \n",
            " activation_13 (Activation)  (None, 32, 32, 32)        0         \n",
            "                                                                 \n",
            " batch_normalization_21 (Ba  (None, 32, 32, 32)        128       \n",
            " tchNormalization)                                               \n",
            "                                                                 \n",
            " max_pooling2d_11 (MaxPooli  (None, 16, 16, 32)        0         \n",
            " ng2D)                                                           \n",
            "                                                                 \n",
            " dropout_11 (Dropout)        (None, 16, 16, 32)        0         \n",
            "                                                                 \n",
            " conv2d_23 (Conv2D)          (None, 16, 16, 64)        18496     \n",
            "                                                                 \n",
            " activation_14 (Activation)  (None, 16, 16, 64)        0         \n",
            "                                                                 \n",
            " batch_normalization_22 (Ba  (None, 16, 16, 64)        256       \n",
            " tchNormalization)                                               \n",
            "                                                                 \n",
            " conv2d_24 (Conv2D)          (None, 16, 16, 128)       73856     \n",
            "                                                                 \n",
            " activation_15 (Activation)  (None, 16, 16, 128)       0         \n",
            "                                                                 \n",
            " batch_normalization_23 (Ba  (None, 16, 16, 128)       512       \n",
            " tchNormalization)                                               \n",
            "                                                                 \n",
            " max_pooling2d_12 (MaxPooli  (None, 8, 8, 128)         0         \n",
            " ng2D)                                                           \n",
            "                                                                 \n",
            " dropout_12 (Dropout)        (None, 8, 8, 128)         0         \n",
            "                                                                 \n",
            " conv2d_25 (Conv2D)          (None, 8, 8, 128)         147584    \n",
            "                                                                 \n",
            " activation_16 (Activation)  (None, 8, 8, 128)         0         \n",
            "                                                                 \n",
            " batch_normalization_24 (Ba  (None, 8, 8, 128)         512       \n",
            " tchNormalization)                                               \n",
            "                                                                 \n",
            " conv2d_26 (Conv2D)          (None, 8, 8, 256)         295168    \n",
            "                                                                 \n",
            " activation_17 (Activation)  (None, 8, 8, 256)         0         \n",
            "                                                                 \n",
            " batch_normalization_25 (Ba  (None, 8, 8, 256)         1024      \n",
            " tchNormalization)                                               \n",
            "                                                                 \n",
            " max_pooling2d_13 (MaxPooli  (None, 4, 4, 256)         0         \n",
            " ng2D)                                                           \n",
            "                                                                 \n",
            " dropout_13 (Dropout)        (None, 4, 4, 256)         0         \n",
            "                                                                 \n",
            " flatten_4 (Flatten)         (None, 4096)              0         \n",
            "                                                                 \n",
            " dense_4 (Dense)             (None, 10)                40970     \n",
            "                                                                 \n",
            "=================================================================\n",
            "Total params: 583658 (2.23 MB)\n",
            "Trainable params: 582410 (2.22 MB)\n",
            "Non-trainable params: 1248 (4.88 KB)\n",
            "_________________________________________________________________\n"
          ]
        }
      ]
    },
    {
      "cell_type": "code",
      "source": [
        "# Train the model. Using Colab for training\n",
        "history = model.fit((dataset_train), # Data feature and data label\n",
        "                    epochs=100, # Number of training epochs\n",
        "                    batch_size = 1024,\n",
        "                    validation_data=dataset_val) # Validation set"
      ],
      "metadata": {
        "colab": {
          "base_uri": "https://localhost:8080/"
        },
        "id": "aTF5pQdZ2aZL",
        "outputId": "7fe3780c-4149-4e79-f40c-219bffcb302c"
      },
      "execution_count": 53,
      "outputs": [
        {
          "output_type": "stream",
          "name": "stdout",
          "text": [
            "Epoch 1/100\n",
            "704/704 [==============================] - 23s 16ms/step - loss: 1.8326 - accuracy: 0.4806 - val_loss: 1.5284 - val_accuracy: 0.5662\n",
            "Epoch 2/100\n",
            "704/704 [==============================] - 11s 15ms/step - loss: 1.1803 - accuracy: 0.6457 - val_loss: 1.1428 - val_accuracy: 0.6532\n",
            "Epoch 3/100\n",
            "704/704 [==============================] - 10s 15ms/step - loss: 0.9814 - accuracy: 0.7020 - val_loss: 1.0376 - val_accuracy: 0.6860\n",
            "Epoch 4/100\n",
            "704/704 [==============================] - 11s 15ms/step - loss: 0.8566 - accuracy: 0.7429 - val_loss: 0.8653 - val_accuracy: 0.7404\n",
            "Epoch 5/100\n",
            "704/704 [==============================] - 10s 15ms/step - loss: 0.7725 - accuracy: 0.7748 - val_loss: 1.2038 - val_accuracy: 0.6850\n",
            "Epoch 6/100\n",
            "704/704 [==============================] - 12s 17ms/step - loss: 0.7173 - accuracy: 0.7953 - val_loss: 0.9713 - val_accuracy: 0.7482\n",
            "Epoch 7/100\n",
            "704/704 [==============================] - 15s 22ms/step - loss: 0.6802 - accuracy: 0.8140 - val_loss: 0.9408 - val_accuracy: 0.7372\n",
            "Epoch 8/100\n",
            "704/704 [==============================] - 14s 20ms/step - loss: 0.6394 - accuracy: 0.8322 - val_loss: 0.8593 - val_accuracy: 0.7790\n",
            "Epoch 9/100\n",
            "704/704 [==============================] - 11s 16ms/step - loss: 0.6165 - accuracy: 0.8451 - val_loss: 0.8648 - val_accuracy: 0.7856\n",
            "Epoch 10/100\n",
            "704/704 [==============================] - 11s 15ms/step - loss: 0.5967 - accuracy: 0.8558 - val_loss: 0.8861 - val_accuracy: 0.7798\n",
            "Epoch 11/100\n",
            "704/704 [==============================] - 11s 15ms/step - loss: 0.5744 - accuracy: 0.8680 - val_loss: 0.9664 - val_accuracy: 0.7712\n",
            "Epoch 12/100\n",
            "704/704 [==============================] - 10s 15ms/step - loss: 0.5575 - accuracy: 0.8782 - val_loss: 0.8838 - val_accuracy: 0.7980\n",
            "Epoch 13/100\n",
            "704/704 [==============================] - 11s 15ms/step - loss: 0.5525 - accuracy: 0.8826 - val_loss: 0.9543 - val_accuracy: 0.7934\n",
            "Epoch 14/100\n",
            "704/704 [==============================] - 11s 15ms/step - loss: 0.5439 - accuracy: 0.8885 - val_loss: 0.8953 - val_accuracy: 0.8076\n",
            "Epoch 15/100\n",
            "704/704 [==============================] - 10s 15ms/step - loss: 0.5270 - accuracy: 0.8965 - val_loss: 0.9017 - val_accuracy: 0.8130\n",
            "Epoch 16/100\n",
            "704/704 [==============================] - 11s 15ms/step - loss: 0.5240 - accuracy: 0.9025 - val_loss: 0.9219 - val_accuracy: 0.8076\n",
            "Epoch 17/100\n",
            "704/704 [==============================] - 10s 15ms/step - loss: 0.5222 - accuracy: 0.9052 - val_loss: 0.9477 - val_accuracy: 0.8020\n",
            "Epoch 18/100\n",
            "704/704 [==============================] - 10s 15ms/step - loss: 0.5111 - accuracy: 0.9108 - val_loss: 0.8934 - val_accuracy: 0.8200\n",
            "Epoch 19/100\n",
            "704/704 [==============================] - 11s 15ms/step - loss: 0.5173 - accuracy: 0.9110 - val_loss: 0.9447 - val_accuracy: 0.8150\n",
            "Epoch 20/100\n",
            "704/704 [==============================] - 11s 15ms/step - loss: 0.5043 - accuracy: 0.9171 - val_loss: 1.0282 - val_accuracy: 0.8038\n",
            "Epoch 21/100\n",
            "704/704 [==============================] - 10s 15ms/step - loss: 0.5045 - accuracy: 0.9200 - val_loss: 0.9359 - val_accuracy: 0.8230\n",
            "Epoch 22/100\n",
            "704/704 [==============================] - 11s 15ms/step - loss: 0.4981 - accuracy: 0.9223 - val_loss: 0.9763 - val_accuracy: 0.8140\n",
            "Epoch 23/100\n",
            "704/704 [==============================] - 10s 15ms/step - loss: 0.5009 - accuracy: 0.9227 - val_loss: 0.9494 - val_accuracy: 0.8212\n",
            "Epoch 24/100\n",
            "704/704 [==============================] - 11s 15ms/step - loss: 0.4912 - accuracy: 0.9265 - val_loss: 0.9443 - val_accuracy: 0.8176\n",
            "Epoch 25/100\n",
            "704/704 [==============================] - 11s 15ms/step - loss: 0.5004 - accuracy: 0.9245 - val_loss: 0.8943 - val_accuracy: 0.8308\n",
            "Epoch 26/100\n",
            "704/704 [==============================] - 10s 15ms/step - loss: 0.4862 - accuracy: 0.9300 - val_loss: 1.0026 - val_accuracy: 0.8106\n",
            "Epoch 27/100\n",
            "704/704 [==============================] - 11s 15ms/step - loss: 0.4916 - accuracy: 0.9278 - val_loss: 1.0130 - val_accuracy: 0.8156\n",
            "Epoch 28/100\n",
            "704/704 [==============================] - 11s 15ms/step - loss: 0.4902 - accuracy: 0.9299 - val_loss: 0.9851 - val_accuracy: 0.8124\n",
            "Epoch 29/100\n",
            "704/704 [==============================] - 11s 15ms/step - loss: 0.4868 - accuracy: 0.9308 - val_loss: 0.9917 - val_accuracy: 0.8156\n",
            "Epoch 30/100\n",
            "704/704 [==============================] - 10s 15ms/step - loss: 0.4798 - accuracy: 0.9351 - val_loss: 0.9417 - val_accuracy: 0.8302\n",
            "Epoch 31/100\n",
            "704/704 [==============================] - 10s 15ms/step - loss: 0.4832 - accuracy: 0.9331 - val_loss: 0.9691 - val_accuracy: 0.8252\n",
            "Epoch 32/100\n",
            "704/704 [==============================] - 10s 15ms/step - loss: 0.4817 - accuracy: 0.9334 - val_loss: 1.0664 - val_accuracy: 0.8074\n",
            "Epoch 33/100\n",
            "704/704 [==============================] - 11s 15ms/step - loss: 0.4792 - accuracy: 0.9345 - val_loss: 1.0732 - val_accuracy: 0.8074\n",
            "Epoch 34/100\n",
            "704/704 [==============================] - 11s 15ms/step - loss: 0.4831 - accuracy: 0.9351 - val_loss: 0.9670 - val_accuracy: 0.8244\n",
            "Epoch 35/100\n",
            "704/704 [==============================] - 10s 15ms/step - loss: 0.4741 - accuracy: 0.9374 - val_loss: 0.9755 - val_accuracy: 0.8272\n",
            "Epoch 36/100\n",
            "704/704 [==============================] - 11s 15ms/step - loss: 0.4771 - accuracy: 0.9369 - val_loss: 0.9231 - val_accuracy: 0.8324\n",
            "Epoch 37/100\n",
            "704/704 [==============================] - 11s 15ms/step - loss: 0.4744 - accuracy: 0.9384 - val_loss: 0.9677 - val_accuracy: 0.8250\n",
            "Epoch 38/100\n",
            "704/704 [==============================] - 11s 15ms/step - loss: 0.4756 - accuracy: 0.9382 - val_loss: 0.9699 - val_accuracy: 0.8236\n",
            "Epoch 39/100\n",
            "704/704 [==============================] - 10s 15ms/step - loss: 0.4721 - accuracy: 0.9400 - val_loss: 0.9628 - val_accuracy: 0.8224\n",
            "Epoch 40/100\n",
            "704/704 [==============================] - 12s 17ms/step - loss: 0.4673 - accuracy: 0.9402 - val_loss: 1.0432 - val_accuracy: 0.8202\n",
            "Epoch 41/100\n",
            "704/704 [==============================] - 13s 18ms/step - loss: 0.4705 - accuracy: 0.9390 - val_loss: 1.0216 - val_accuracy: 0.8226\n",
            "Epoch 42/100\n",
            "704/704 [==============================] - 14s 21ms/step - loss: 0.4692 - accuracy: 0.9403 - val_loss: 1.0165 - val_accuracy: 0.8230\n",
            "Epoch 43/100\n",
            "704/704 [==============================] - 11s 16ms/step - loss: 0.4679 - accuracy: 0.9398 - val_loss: 0.9900 - val_accuracy: 0.8272\n",
            "Epoch 44/100\n",
            "704/704 [==============================] - 12s 17ms/step - loss: 0.4602 - accuracy: 0.9430 - val_loss: 0.9458 - val_accuracy: 0.8304\n",
            "Epoch 45/100\n",
            "704/704 [==============================] - 12s 17ms/step - loss: 0.4645 - accuracy: 0.9417 - val_loss: 0.9708 - val_accuracy: 0.8270\n",
            "Epoch 46/100\n",
            "704/704 [==============================] - 11s 15ms/step - loss: 0.4605 - accuracy: 0.9429 - val_loss: 0.9324 - val_accuracy: 0.8298\n",
            "Epoch 47/100\n",
            "704/704 [==============================] - 11s 15ms/step - loss: 0.4639 - accuracy: 0.9415 - val_loss: 0.9384 - val_accuracy: 0.8374\n",
            "Epoch 48/100\n",
            "704/704 [==============================] - 10s 15ms/step - loss: 0.4631 - accuracy: 0.9417 - val_loss: 0.9999 - val_accuracy: 0.8238\n",
            "Epoch 49/100\n",
            "704/704 [==============================] - 12s 17ms/step - loss: 0.4724 - accuracy: 0.9398 - val_loss: 0.9425 - val_accuracy: 0.8330\n",
            "Epoch 50/100\n",
            "704/704 [==============================] - 10s 15ms/step - loss: 0.4575 - accuracy: 0.9450 - val_loss: 1.0293 - val_accuracy: 0.8168\n",
            "Epoch 51/100\n",
            "704/704 [==============================] - 11s 15ms/step - loss: 0.4610 - accuracy: 0.9428 - val_loss: 0.9938 - val_accuracy: 0.8292\n",
            "Epoch 52/100\n",
            "704/704 [==============================] - 11s 15ms/step - loss: 0.4577 - accuracy: 0.9440 - val_loss: 0.9188 - val_accuracy: 0.8392\n",
            "Epoch 53/100\n",
            "704/704 [==============================] - 11s 15ms/step - loss: 0.4534 - accuracy: 0.9457 - val_loss: 0.9809 - val_accuracy: 0.8332\n",
            "Epoch 54/100\n",
            "704/704 [==============================] - 11s 16ms/step - loss: 0.4551 - accuracy: 0.9446 - val_loss: 1.0009 - val_accuracy: 0.8240\n",
            "Epoch 55/100\n",
            "704/704 [==============================] - 10s 15ms/step - loss: 0.4577 - accuracy: 0.9435 - val_loss: 0.9962 - val_accuracy: 0.8294\n",
            "Epoch 56/100\n",
            "704/704 [==============================] - 11s 15ms/step - loss: 0.4554 - accuracy: 0.9441 - val_loss: 0.9220 - val_accuracy: 0.8348\n",
            "Epoch 57/100\n",
            "704/704 [==============================] - 10s 15ms/step - loss: 0.4541 - accuracy: 0.9455 - val_loss: 0.9419 - val_accuracy: 0.8402\n",
            "Epoch 58/100\n",
            "704/704 [==============================] - 10s 15ms/step - loss: 0.4494 - accuracy: 0.9470 - val_loss: 0.9229 - val_accuracy: 0.8354\n",
            "Epoch 59/100\n",
            "704/704 [==============================] - 11s 15ms/step - loss: 0.4542 - accuracy: 0.9458 - val_loss: 1.0187 - val_accuracy: 0.8198\n",
            "Epoch 60/100\n",
            "704/704 [==============================] - 11s 15ms/step - loss: 0.4501 - accuracy: 0.9454 - val_loss: 0.9685 - val_accuracy: 0.8296\n",
            "Epoch 61/100\n",
            "704/704 [==============================] - 11s 15ms/step - loss: 0.4575 - accuracy: 0.9444 - val_loss: 0.9608 - val_accuracy: 0.8350\n",
            "Epoch 62/100\n",
            "704/704 [==============================] - 10s 15ms/step - loss: 0.4516 - accuracy: 0.9458 - val_loss: 0.9515 - val_accuracy: 0.8334\n",
            "Epoch 63/100\n",
            "704/704 [==============================] - 11s 15ms/step - loss: 0.4475 - accuracy: 0.9469 - val_loss: 0.9478 - val_accuracy: 0.8316\n",
            "Epoch 64/100\n",
            "704/704 [==============================] - 11s 15ms/step - loss: 0.4466 - accuracy: 0.9463 - val_loss: 0.9794 - val_accuracy: 0.8276\n",
            "Epoch 65/100\n",
            "704/704 [==============================] - 11s 15ms/step - loss: 0.4500 - accuracy: 0.9459 - val_loss: 0.9254 - val_accuracy: 0.8366\n",
            "Epoch 66/100\n",
            "704/704 [==============================] - 11s 15ms/step - loss: 0.4429 - accuracy: 0.9486 - val_loss: 0.9318 - val_accuracy: 0.8328\n",
            "Epoch 67/100\n",
            "704/704 [==============================] - 10s 15ms/step - loss: 0.4514 - accuracy: 0.9451 - val_loss: 0.9819 - val_accuracy: 0.8308\n",
            "Epoch 68/100\n",
            "704/704 [==============================] - 11s 15ms/step - loss: 0.4465 - accuracy: 0.9468 - val_loss: 0.9918 - val_accuracy: 0.8276\n",
            "Epoch 69/100\n",
            "704/704 [==============================] - 10s 15ms/step - loss: 0.4462 - accuracy: 0.9473 - val_loss: 1.0049 - val_accuracy: 0.8270\n",
            "Epoch 70/100\n",
            "704/704 [==============================] - 11s 15ms/step - loss: 0.4495 - accuracy: 0.9463 - val_loss: 0.9183 - val_accuracy: 0.8426\n",
            "Epoch 71/100\n",
            "704/704 [==============================] - 10s 15ms/step - loss: 0.4507 - accuracy: 0.9461 - val_loss: 0.9329 - val_accuracy: 0.8366\n",
            "Epoch 72/100\n",
            "704/704 [==============================] - 10s 15ms/step - loss: 0.4439 - accuracy: 0.9485 - val_loss: 0.9216 - val_accuracy: 0.8398\n",
            "Epoch 73/100\n",
            "704/704 [==============================] - 10s 15ms/step - loss: 0.4441 - accuracy: 0.9476 - val_loss: 0.9564 - val_accuracy: 0.8372\n",
            "Epoch 74/100\n",
            "704/704 [==============================] - 11s 15ms/step - loss: 0.4512 - accuracy: 0.9466 - val_loss: 0.8984 - val_accuracy: 0.8396\n",
            "Epoch 75/100\n",
            "704/704 [==============================] - 10s 15ms/step - loss: 0.4383 - accuracy: 0.9497 - val_loss: 1.0385 - val_accuracy: 0.8216\n",
            "Epoch 76/100\n",
            "704/704 [==============================] - 10s 15ms/step - loss: 0.4421 - accuracy: 0.9481 - val_loss: 0.9606 - val_accuracy: 0.8386\n",
            "Epoch 77/100\n",
            "704/704 [==============================] - 11s 15ms/step - loss: 0.4438 - accuracy: 0.9477 - val_loss: 1.0633 - val_accuracy: 0.8204\n",
            "Epoch 78/100\n",
            "704/704 [==============================] - 10s 14ms/step - loss: 0.4465 - accuracy: 0.9480 - val_loss: 0.9362 - val_accuracy: 0.8356\n",
            "Epoch 79/100\n",
            "704/704 [==============================] - 11s 15ms/step - loss: 0.4453 - accuracy: 0.9480 - val_loss: 0.9659 - val_accuracy: 0.8328\n",
            "Epoch 80/100\n",
            "704/704 [==============================] - 11s 15ms/step - loss: 0.4355 - accuracy: 0.9508 - val_loss: 1.0006 - val_accuracy: 0.8274\n",
            "Epoch 81/100\n",
            "704/704 [==============================] - 11s 15ms/step - loss: 0.4415 - accuracy: 0.9481 - val_loss: 0.9952 - val_accuracy: 0.8238\n",
            "Epoch 82/100\n",
            "704/704 [==============================] - 11s 15ms/step - loss: 0.4434 - accuracy: 0.9472 - val_loss: 0.9856 - val_accuracy: 0.8284\n",
            "Epoch 83/100\n",
            "704/704 [==============================] - 11s 15ms/step - loss: 0.4443 - accuracy: 0.9475 - val_loss: 0.9156 - val_accuracy: 0.8426\n",
            "Epoch 84/100\n",
            "704/704 [==============================] - 10s 15ms/step - loss: 0.4409 - accuracy: 0.9484 - val_loss: 1.0294 - val_accuracy: 0.8190\n",
            "Epoch 85/100\n",
            "704/704 [==============================] - 11s 15ms/step - loss: 0.4398 - accuracy: 0.9498 - val_loss: 0.9211 - val_accuracy: 0.8402\n",
            "Epoch 86/100\n",
            "704/704 [==============================] - 10s 15ms/step - loss: 0.4425 - accuracy: 0.9476 - val_loss: 0.9281 - val_accuracy: 0.8424\n",
            "Epoch 87/100\n",
            "704/704 [==============================] - 11s 15ms/step - loss: 0.4407 - accuracy: 0.9484 - val_loss: 0.9879 - val_accuracy: 0.8276\n",
            "Epoch 88/100\n",
            "704/704 [==============================] - 11s 15ms/step - loss: 0.4351 - accuracy: 0.9499 - val_loss: 0.9872 - val_accuracy: 0.8344\n",
            "Epoch 89/100\n",
            "704/704 [==============================] - 11s 15ms/step - loss: 0.4385 - accuracy: 0.9501 - val_loss: 0.9842 - val_accuracy: 0.8330\n",
            "Epoch 90/100\n",
            "704/704 [==============================] - 11s 15ms/step - loss: 0.4429 - accuracy: 0.9481 - val_loss: 0.9921 - val_accuracy: 0.8318\n",
            "Epoch 91/100\n",
            "704/704 [==============================] - 11s 15ms/step - loss: 0.4298 - accuracy: 0.9528 - val_loss: 0.9124 - val_accuracy: 0.8402\n",
            "Epoch 92/100\n",
            "704/704 [==============================] - 11s 15ms/step - loss: 0.4386 - accuracy: 0.9498 - val_loss: 0.9982 - val_accuracy: 0.8276\n",
            "Epoch 93/100\n",
            "704/704 [==============================] - 11s 15ms/step - loss: 0.4369 - accuracy: 0.9501 - val_loss: 0.9563 - val_accuracy: 0.8320\n",
            "Epoch 94/100\n",
            "704/704 [==============================] - 10s 15ms/step - loss: 0.4342 - accuracy: 0.9510 - val_loss: 0.9977 - val_accuracy: 0.8288\n",
            "Epoch 95/100\n",
            "704/704 [==============================] - 11s 15ms/step - loss: 0.4388 - accuracy: 0.9483 - val_loss: 1.0195 - val_accuracy: 0.8268\n",
            "Epoch 96/100\n",
            "704/704 [==============================] - 11s 15ms/step - loss: 0.4351 - accuracy: 0.9513 - val_loss: 0.9835 - val_accuracy: 0.8248\n",
            "Epoch 97/100\n",
            "704/704 [==============================] - 11s 15ms/step - loss: 0.4308 - accuracy: 0.9512 - val_loss: 0.9987 - val_accuracy: 0.8236\n",
            "Epoch 98/100\n",
            "704/704 [==============================] - 11s 15ms/step - loss: 0.4316 - accuracy: 0.9508 - val_loss: 0.9974 - val_accuracy: 0.8294\n",
            "Epoch 99/100\n",
            "704/704 [==============================] - 11s 15ms/step - loss: 0.4386 - accuracy: 0.9488 - val_loss: 1.0256 - val_accuracy: 0.8262\n",
            "Epoch 100/100\n",
            "704/704 [==============================] - 10s 15ms/step - loss: 0.4362 - accuracy: 0.9509 - val_loss: 0.9042 - val_accuracy: 0.8452\n"
          ]
        }
      ]
    },
    {
      "cell_type": "code",
      "source": [
        "# Visualize training and validation performance\n",
        "f,ax=plt.subplots(2,1)\n",
        "\n",
        "# Plot training and validation loss\n",
        "ax[0].plot(history.history['loss'], color='g',label='Training Loss')\n",
        "ax[0].plot(history.history['val_loss'],color='r',label='Validation Loss')\n",
        "\n",
        "# Plot training and validation accuracy\n",
        "ax[1].plot(history.history['accuracy'],color='g',label='Training Accuracy')\n",
        "ax[1].plot(history.history['val_accuracy'],color='r',label='Validation Accuracy')\n",
        "\n",
        "plt.legend()"
      ],
      "metadata": {
        "colab": {
          "base_uri": "https://localhost:8080/",
          "height": 447
        },
        "id": "WOOntmBX4omO",
        "outputId": "8d53f942-3529-40dd-899d-70d123b0f179"
      },
      "execution_count": 60,
      "outputs": [
        {
          "output_type": "execute_result",
          "data": {
            "text/plain": [
              "<matplotlib.legend.Legend at 0x7bf9e86177f0>"
            ]
          },
          "metadata": {},
          "execution_count": 60
        },
        {
          "output_type": "display_data",
          "data": {
            "text/plain": [
              "<Figure size 640x480 with 2 Axes>"
            ],
            "image/png": "[encoded data removed]"
          },
          "metadata": {}
        }
      ]
    },
    {
      "cell_type": "code",
      "source": [
        "# # functional API\n",
        "# # input layer\n",
        "\n",
        "\n",
        "# input = Input(shape=X_train_norm[0].shape)\n",
        "# x = Conv2D(32, (3, 3), activation='relu', padding='same')(input)\n",
        "# x = BatchNormalization()(x)\n",
        "# x = Conv2D(32, (3, 3), activation='relu', padding='same')(x)\n",
        "# x = BatchNormalization()(x)\n",
        "# x = MaxPooling2D((2, 2))(x)\n",
        "# x = Dropout(0.2)(x)\n",
        "\n",
        "# x = Conv2D(64, (3, 3), activation='relu', padding='same')(x)\n",
        "# x = BatchNormalization()(x)\n",
        "# x = Conv2D(64, (3, 3), activation='relu', padding='same')(x)\n",
        "# x = BatchNormalization()(x)\n",
        "# x = MaxPooling2D((2, 2))(x)\n",
        "# x = Dropout(0.3)(x)\n",
        "\n",
        "# x = Conv2D(128, (3, 3), activation='relu', padding='same')(x)\n",
        "# x = BatchNormalization()(x)\n",
        "# x = Conv2D(128, (3, 3), activation='relu', padding='same')(x)\n",
        "# x = BatchNormalization()(x)\n",
        "# x = MaxPooling2D((2, 2))(x)\n",
        "# x = Dropout(0.4)(x)\n",
        "\n",
        "# x = Conv2D(256, (3, 3), activation='relu', padding='same')(x)\n",
        "# x = BatchNormalization()(x)\n",
        "# x = Conv2D(256, (3, 3), activation='relu', padding='same')(x)\n",
        "# x = BatchNormalization()(x)\n",
        "# x = MaxPooling2D((2, 2))(x)\n",
        "# x = Dropout(0.5)(x)\n",
        "\n",
        "# x = Flatten()(x)\n",
        "# x = Dropout(0.2)(x)\n",
        "# model = Model(input,x)"
      ],
      "metadata": {
        "id": "eFwUyyJziY89"
      },
      "execution_count": 56,
      "outputs": []
    }
  ],
  "metadata": {
    "accelerator": "GPU",
    "colab": {
      "provenance": [],
      "gpuType": "T4"
    },
    "kernelspec": {
      "display_name": "Python 3",
      "name": "python3"
    },
    "language_info": {
      "codemirror_mode": {
        "name": "ipython",
        "version": 3
      },
      "file_extension": ".py",
      "mimetype": "text/x-python",
      "name": "python",
      "nbconvert_exporter": "python",
      "pygments_lexer": "ipython3",
      "version": "3.8.3"
    }
  },
  "nbformat": 4,
  "nbformat_minor": 0
}